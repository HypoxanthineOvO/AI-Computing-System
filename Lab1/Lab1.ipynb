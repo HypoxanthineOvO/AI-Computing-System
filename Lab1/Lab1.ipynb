{
 "cells": [
  {
   "cell_type": "markdown",
   "metadata": {},
   "source": [
    "# Lab 1 Numpy CNN for inference"
   ]
  },
  {
   "cell_type": "markdown",
   "metadata": {},
   "source": [
    "In this lab, you are required to fill in the blanks with your code **independently** to complete the inference process of a CNN. Note that there's a bonus at the end of this lab.\n",
    "\n",
    "**Requirements**\n",
    "\n",
    "**1. Complete the codes independently.**\n",
    "\n",
    "**2. Make sure your results are reproducible.**\n",
    "\n",
    "**3. Do not change the structure of the CNN and the given codes.**\n",
    "\n",
    "**4. Do not add additional libraries.**\n",
    "\n",
    "**Submission**\n",
    "\n",
    "**1. Please submit only this ipynb file via Blackboard.**\n",
    "\n",
    "**2. Name the ipynb file as \"StudentID_StudentName\".**\n",
    "\n",
    "**3. Submit before Oct. 22nd 23:59:59.**"
   ]
  },
  {
   "cell_type": "code",
   "execution_count": 2,
   "metadata": {},
   "outputs": [],
   "source": [
    "import numpy as np"
   ]
  },
  {
   "cell_type": "markdown",
   "metadata": {},
   "source": [
    "Define a simple CNN that classifies CIFAR images.\n",
    "The network provided is similar to LeNet-5, and it has the following architecture:\n",
    "\n",
    "**Layer** | **Type** | **Input Shape** | **Output Shape** | **Activation**\n",
    "--- | --- | --- | --- | ---\n",
    "conv1 | Convolutional | 3x32x32 | 12x28x28 | ReLU \n",
    "pool1 | Max pool | 12x28x28 | 12x14x14 | None                \n",
    "conv2 | Convolutional | 12x14x14 | 32x12x12 | ReLU                \n",
    "pool2 | Max pool | 32x12x12 | 32x6x6 | None                \n",
    "fc1 | Fully-connected | 1152 | 256 | ReLU                \n",
    "fc2 | Fully-connected | 256 | 64 | ReLU                \n",
    "fc3 | Fully-connected | 64 | 10 | None                \n",
    "\n",
    "Next, we will build convolution, relu, max-pooling and fully-connected layers using **numpy** respectively (only forward propagation is required for inference)."
   ]
  },
  {
   "cell_type": "code",
   "execution_count": 3,
   "metadata": {},
   "outputs": [],
   "source": [
    "class ReLU():\n",
    "    def __init__(self):\n",
    "        pass\n",
    "\n",
    "    def forward(self, input: np.ndarray) -> np.ndarray:\n",
    "        # forward propagation for relu layer\n",
    "        output = np.maximum(0, input)\n",
    "        return output"
   ]
  },
  {
   "cell_type": "code",
   "execution_count": 4,
   "metadata": {},
   "outputs": [],
   "source": [
    "class ConvLayer:  \n",
    "    def __init__(self, input_channels: int, output_channels: int, kernel_size: int, stride: int, padding: int):   \n",
    "        self.input_channels: int = input_channels\n",
    "        self.output_channels: int = output_channels\n",
    "        self.kernel_size: int = kernel_size  \n",
    "        self.stride: int = stride\n",
    "        self.padding: int = padding \n",
    "  \n",
    "    def forward(self, x: np.ndarray, weight: np.ndarray):  \n",
    "        \"\"\"    \n",
    "        input x: (N, C, H, W) [batchsize, input channels, x_height, x_width]\n",
    "        input w: (K, C, R, S) [output channels, input channels, w_height, w_width] \n",
    "        output: (N, K, P, Q) [batchsize, output channels, output_height, output_width]\n",
    "        \"\"\"  \n",
    "        assert x.shape[1] == weight.shape[1], \"x and weight have different input channels!\"\n",
    "        N, C, H, W = x.shape\n",
    "        K, C, R, S = weight.shape\n",
    "        \n",
    "        \n",
    "        assert C == self.input_channels, \"Invalid Input Channels!\"\n",
    "        assert K == self.output_channels, \"Invalid Output Channels!\"\n",
    "         \n",
    "        # Complete padding operation\n",
    "        \n",
    "        # x_padded = np.zeros([N, C, H + 2 * self.padding, W + 2 * self.padding])\n",
    "        # if (self.padding):\n",
    "        #     x_padded[:, :, self.padding: -self.padding, self.padding : -self.padding] = x\n",
    "        x_padded = np.pad(\n",
    "            x, ((0, 0), (0, 0), (self.padding, self.padding), (self.padding, self.padding)), \n",
    "            mode='constant'\n",
    "        )\n",
    "        # Compute output size using self.padding and self.stride\n",
    "        ## P = floor((H + 2 * padding_x - R) / stride) + 1\n",
    "        ## Q = floor((W + 2 * padding_y - S) / stride) + 1\n",
    "        P: np.ndarray = np.floor((H + 2 * self.padding - R) / self.stride) + 1\n",
    "        Q: np.ndarray = np.floor((W + 2 * self.padding - S) / self.stride) + 1\n",
    "        P, Q = P.astype(np.int32).item(), Q.astype(np.int32).item()\n",
    "        \n",
    "        output = np.zeros([N, K, P, Q])\n",
    "        # complete convolution operation\n",
    "        for batch_id in range(N):\n",
    "            for output_channel in range(K):\n",
    "                feature = np.zeros([P, Q])\n",
    "                for input_channel in range(C):\n",
    "                    # Each Single channel\n",
    "                    x_processed = x_padded[batch_id, input_channel]\n",
    "                    w_processed = weight[output_channel, input_channel]\n",
    "                    for i in range(0, H + 2 * self.padding - R + 1, self.stride):\n",
    "                        for j in range(0, W + 2 * self.padding - S + 1, self.stride):\n",
    "                            x_partial = x_processed[i: i + R, j: j + S]\n",
    "                            #height_partial, width_partial = x_partial.shape\n",
    "                            #w_partial = w_processed[:height_partial, :width_partial]\n",
    "                            #feature_propossed = np.sum(x_partial * w_partial)\n",
    "                            feature_propossed = np.sum(x_partial * w_processed)\n",
    "                            feature[i // self.stride, j // self.stride] += feature_propossed\n",
    "                output[batch_id, output_channel] = feature\n",
    "        return output"
   ]
  },
  {
   "cell_type": "code",
   "execution_count": 5,
   "metadata": {},
   "outputs": [],
   "source": [
    "class MaxPooling2D:  \n",
    "    def __init__(self, pool_size: tuple = (2, 2), stride: int = 2):  \n",
    "        self.pool_size: tuple = pool_size  \n",
    "        self.stride: int = stride  \n",
    "    def forward(self, x: np.ndarray):  \n",
    "        \"\"\"    \n",
    "        input x: (N, C, H, W) [batchsize, input channels, x_height, x_width]\n",
    "        output: (N, C, pooled_height, pooled_width)\n",
    "        \"\"\"  \n",
    "        N, C, H, W = x.shape\n",
    "        # compute output size using self.pool_size and self.stride\n",
    "        \n",
    "        pooled_height: np.ndarray = np.floor((H - self.pool_size[0]) / self.stride) + 1\n",
    "        pooled_width: np.ndarray = np.floor((W - self.pool_size[1]) / self.stride) + 1\n",
    "        pooled_height, pooled_width = pooled_height.astype(np.int32).item(), pooled_width.astype(np.int32).item()\n",
    "  \n",
    "        output = np.zeros((N, C, pooled_height, pooled_width))\n",
    "        # complete max-pooling operation\n",
    "        for batch_id in range(N):\n",
    "            for input_channel  in range(C):\n",
    "                feature = np.zeros([pooled_height, pooled_width])\n",
    "                # Single Image\n",
    "                x_processed = x[batch_id, input_channel]\n",
    "                i_cnt, j_cnt = 0, 0\n",
    "                for i in range(0, H, self.stride):\n",
    "                    for j in range(0, W, self.stride):\n",
    "                        feature_processed = np.max(x_processed[i: i+self.pool_size[0], j: j + self.pool_size[1]])\n",
    "                        feature[i_cnt, j_cnt] = feature_processed\n",
    "                        j_cnt += 1\n",
    "                    i_cnt += 1\n",
    "                    j_cnt = 0\n",
    "                output[batch_id, input_channel] = feature\n",
    "        return output"
   ]
  },
  {
   "cell_type": "code",
   "execution_count": 6,
   "metadata": {},
   "outputs": [],
   "source": [
    "class fclayer():\n",
    "    def __init__(self, in_features: int, out_features: int):\n",
    "        self.in_features: int = in_features\n",
    "        self.out_features: int = out_features\n",
    "        \n",
    "    def forward(self, x: np.ndarray, weight: np.ndarray):\n",
    "        # complete forward propagation of fully-connected layer\n",
    "        \n",
    "        assert self.in_features == x.shape[-1]\n",
    "        assert self.in_features == weight.shape[-1]\n",
    "        assert self.out_features == weight.shape[0]\n",
    "        \n",
    "        output = np.dot(x, weight.T)\n",
    "        return output  "
   ]
  },
  {
   "cell_type": "code",
   "execution_count": 7,
   "metadata": {},
   "outputs": [
    {
     "name": "stdout",
     "output_type": "stream",
     "text": [
      "odict_keys(['conv1.weight', 'conv2.weight', 'fc1.weight', 'fc2.weight', 'fc3.weight'])\n"
     ]
    }
   ],
   "source": [
    "import torch\n",
    "\n",
    "# load trained parameters\n",
    "ckpt: torch.nn.ModuleDict = torch.load('./model/model.pth')\n",
    "print(ckpt.keys())"
   ]
  },
  {
   "cell_type": "code",
   "execution_count": 8,
   "metadata": {},
   "outputs": [],
   "source": [
    "def lenet_inf(x: torch.Tensor,ckpt: torch.nn.ModuleDict):\n",
    "    print(ckpt.keys())\n",
    "    relu = ReLU().forward\n",
    "    conv1 = ConvLayer(3, 12, 5, 1, 0)\n",
    "    conv1_weight: np.ndarray = ckpt[\"conv1.weight\"].cpu().detach().numpy()\n",
    "    x = conv1.forward(x, conv1_weight)\n",
    "    x = relu(x)\n",
    "    maxpool_1 = MaxPooling2D()\n",
    "    x = maxpool_1.forward(x)\n",
    "    conv2 = ConvLayer(12, 32, 3, 1, 0)\n",
    "    conv2_weight = ckpt[\"conv2.weight\"].cpu().detach().numpy()\n",
    "    x = conv2.forward(x, conv2_weight)\n",
    "    x = relu(x)\n",
    "    maxpool_2 = MaxPooling2D()\n",
    "    x = maxpool_2.forward(x)\n",
    "    fc1 = fclayer(32*6*6, 256)\n",
    "    fc1_weight = ckpt[\"fc1.weight\"].cpu().detach().numpy()\n",
    "    x = x.flatten()\n",
    "    x = fc1.forward(x, fc1_weight)\n",
    "    x = relu(x)\n",
    "    fc2 = fclayer(256, 64)\n",
    "    fc2_weight = ckpt[\"fc2.weight\"].cpu().detach().numpy()\n",
    "    x = fc2.forward(x, fc2_weight)\n",
    "    x = relu(x)\n",
    "    fc3 = fclayer(64, 10)\n",
    "    fc3_weight = ckpt[\"fc3.weight\"].cpu().detach().numpy()\n",
    "    x = fc3.forward(x, fc3_weight)\n",
    "    output = x\n",
    "    return output\n"
   ]
  },
  {
   "cell_type": "code",
   "execution_count": 17,
   "metadata": {},
   "outputs": [],
   "source": [
    "import matplotlib.pyplot as plt\n",
    "import imageio.v2 as imageio\n",
    "from skimage.transform import resize\n",
    "\n",
    "# In this lab we will only infer 1 picture from CIFAR-10 datasets to save running time\n",
    "# you can try different pictures in ./pictures\n",
    "input_image: np.ndarray = np.array(imageio.imread('./pictures/bird1.png'))\n",
    "\n",
    "# TODO (5 pts)\n",
    "# normalize the pixel into [0,1]\n",
    "min_val, max_val = input_image.min(), input_image.max()\n",
    "image: np.ndarray = (input_image - min_val) / (max_val - min_val)\n",
    "\n",
    "# TODO (5 pts)\n",
    "# alter the size of the pixel matrix from (32,32,3) to (1,3,32,32) to fit convolution layer\n",
    "## 0, 1, 2 -> new, 2, 0, 1\n",
    "image = image.transpose(2, 0, 1)\n",
    "image = np.expand_dims(image, axis = 0)\n"
   ]
  },
  {
   "cell_type": "code",
   "execution_count": 18,
   "metadata": {},
   "outputs": [
    {
     "name": "stdout",
     "output_type": "stream",
     "text": [
      "odict_keys(['conv1.weight', 'conv2.weight', 'fc1.weight', 'fc2.weight', 'fc3.weight'])\n",
      "Predicted label: 3\n",
      "Ground truth: 3\n"
     ]
    },
    {
     "data": {
      "image/png": "[encoded data removed]",
      "text/plain": [
       "<Figure size 640x480 with 1 Axes>"
      ]
     },
     "metadata": {},
     "output_type": "display_data"
    }
   ],
   "source": [
    "# TODO (5 pts)\n",
    "# inference using lenet_inf created above\n",
    "# note that the inference process of 1 picture using numpy may take more than 20 minutes\n",
    "output = lenet_inf(image, ckpt)\n",
    "label = np.argmax(output)\n",
    "\n",
    "import matplotlib.pyplot as plt\n",
    "# visualize the picture to be classified\n",
    "plt.imshow(input_image)\n",
    "print(\"Predicted label:\",label)\n",
    "print(\"Ground truth: 3\")"
   ]
  },
  {
   "cell_type": "markdown",
   "metadata": {},
   "source": [
    "Bonus: Calculate the number of computations and parameters. Visualize your results directly in the outputs of your codes. "
   ]
  },
  {
   "cell_type": "markdown",
   "metadata": {},
   "source": [
    "Give your answer here.  "
   ]
  }
 ],
 "metadata": {
  "kernelspec": {
   "display_name": "base",
   "language": "python",
   "name": "python3"
  },
  "language_info": {
   "codemirror_mode": {
    "name": "ipython",
    "version": 3
   },
   "file_extension": ".py",
   "mimetype": "text/x-python",
   "name": "python",
   "nbconvert_exporter": "python",
   "pygments_lexer": "ipython3",
   "version": "3.10.9"
  },
  "orig_nbformat": 4
 },
 "nbformat": 4,
 "nbformat_minor": 2
}
